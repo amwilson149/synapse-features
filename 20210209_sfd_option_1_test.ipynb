{
 "cells": [
  {
   "cell_type": "code",
   "execution_count": 1,
   "metadata": {},
   "outputs": [],
   "source": [
    "import numpy as np\n",
    "import pandas as pd\n",
    "import random\n",
    "import torch,torchvision\n",
    "import torch.nn as nn\n",
    "import torch.optim as optim\n",
    "import torch.nn.functional as F\n",
    "from torch.utils.data import DataLoader\n",
    "import torchio as tio\n",
    "import torchvision.transforms as transforms\n",
    "from os import listdir\n",
    "from os.path import isfile, join\n",
    "from matplotlib import pyplot as plt"
   ]
  },
  {
   "cell_type": "code",
   "execution_count": 2,
   "metadata": {},
   "outputs": [],
   "source": [
    "# Get list of all image tensors for synapses\n",
    "# These images are pre-padded and should be cut down to a size of 64^3 vx after augmentation transformations are performed\n",
    "imgpath = './synaptic_feature_vectors/input_images_unpadded/' # '_old' <- using old images just so we can get this code working while correct images are generated\n",
    "files = [f for f in listdir(imgpath) if isfile(join(imgpath,f))]"
   ]
  },
  {
   "cell_type": "code",
   "execution_count": 3,
   "metadata": {},
   "outputs": [],
   "source": [
    "# Define image resolution so that voxel spacing in mm can be assigned to\n",
    "# the images for each subject (translations for RandomAffine() are defined in mm)\n",
    "mm_per_nm = 1e-6\n",
    "xres_mmpvx = yres_mmpvx = 32*mm_per_nm\n",
    "zres_mmpvx = 40*mm_per_nm"
   ]
  },
  {
   "cell_type": "markdown",
   "metadata": {},
   "source": [
    "Populate training and test sets (80% and 20% of samples, respectively)"
   ]
  },
  {
   "cell_type": "code",
   "execution_count": 4,
   "metadata": {},
   "outputs": [],
   "source": [
    "TRAIN_PCT = 0.80\n",
    "train_set_size = int(np.ceil(TRAIN_PCT*len(files)))\n",
    "train_files = random.sample(files,k=train_set_size)\n",
    "test_files = list(set(files) - set(train_files))"
   ]
  },
  {
   "cell_type": "code",
   "execution_count": 5,
   "metadata": {},
   "outputs": [],
   "source": [
    "# print(len(train_files)) # debugging\n",
    "# print(len(test_files))\n",
    "# print(len(train_files)/len(test_files))"
   ]
  },
  {
   "cell_type": "markdown",
   "metadata": {},
   "source": [
    "Read (1) training and (2) test images and labels into subject lists"
   ]
  },
  {
   "cell_type": "code",
   "execution_count": 6,
   "metadata": {},
   "outputs": [],
   "source": [
    "all_labels_raw = pd.read_csv('./synaptic_feature_vectors/pyr_inh_syn_feature_vectors_old_1.csv',index_col=0)\n",
    "# Pre-processing step for current copy of label df: drop the 'cleft_vx_list' column. (It was mistakenly included.)\n",
    "# This column won't be present in future versions of this df.\n",
    "all_labels_raw.drop(columns=['cleft_vx_list'],inplace=True)\n",
    "# Drop mito size since that won't be predictable (is much larger than these small volumes)\n",
    "all_labels_raw.drop(columns=['mito_sizes_vx'],inplace=True)\n",
    "# Drop rows for which the number of mitochondria is nan\n",
    "all_labels_raw.drop(all_labels_raw[pd.isna(all_labels_raw['n_mitos'])].index,axis=0,inplace=True)"
   ]
  },
  {
   "cell_type": "markdown",
   "metadata": {},
   "source": [
    "Label definitions:\n",
    "\n",
    "0: excitatory cell\n",
    "\n",
    "1: inhibitory cell\n",
    "\n",
    "These classes apply to both the presynaptic cell and postsynaptic cell labels."
   ]
  },
  {
   "cell_type": "code",
   "execution_count": 7,
   "metadata": {},
   "outputs": [
    {
     "data": {
      "text/html": [
       "<div>\n",
       "<style scoped>\n",
       "    .dataframe tbody tr th:only-of-type {\n",
       "        vertical-align: middle;\n",
       "    }\n",
       "\n",
       "    .dataframe tbody tr th {\n",
       "        vertical-align: top;\n",
       "    }\n",
       "\n",
       "    .dataframe thead th {\n",
       "        text-align: right;\n",
       "    }\n",
       "</style>\n",
       "<table border=\"1\" class=\"dataframe\">\n",
       "  <thead>\n",
       "    <tr style=\"text-align: right;\">\n",
       "      <th></th>\n",
       "      <th>syn_id</th>\n",
       "      <th>cleft_x_vx</th>\n",
       "      <th>cleft_y_vx</th>\n",
       "      <th>cleft_z_vx</th>\n",
       "      <th>cleft_size_vx</th>\n",
       "      <th>presyn_soma_dist_um</th>\n",
       "      <th>postsyn_soma_dist_um</th>\n",
       "      <th>presyn_cell_id</th>\n",
       "      <th>presyn_cell_type</th>\n",
       "      <th>presyn_cell_subtype</th>\n",
       "      <th>postsyn_cell_id</th>\n",
       "      <th>postsyn_cell_type</th>\n",
       "      <th>postsyn_cell_subtype</th>\n",
       "      <th>n_mitos</th>\n",
       "    </tr>\n",
       "  </thead>\n",
       "  <tbody>\n",
       "    <tr>\n",
       "      <th>0</th>\n",
       "      <td>1484</td>\n",
       "      <td>91369</td>\n",
       "      <td>57798</td>\n",
       "      <td>1582</td>\n",
       "      <td>798</td>\n",
       "      <td>221.313279</td>\n",
       "      <td>85.49189</td>\n",
       "      <td>648518346349539437</td>\n",
       "      <td>e</td>\n",
       "      <td>pyramidal</td>\n",
       "      <td>648518346349531254</td>\n",
       "      <td>e</td>\n",
       "      <td>pyramidal</td>\n",
       "      <td>0.0</td>\n",
       "    </tr>\n",
       "  </tbody>\n",
       "</table>\n",
       "</div>"
      ],
      "text/plain": [
       "   syn_id  cleft_x_vx  cleft_y_vx  cleft_z_vx  cleft_size_vx  \\\n",
       "0    1484       91369       57798        1582            798   \n",
       "\n",
       "   presyn_soma_dist_um  postsyn_soma_dist_um      presyn_cell_id  \\\n",
       "0           221.313279              85.49189  648518346349539437   \n",
       "\n",
       "  presyn_cell_type presyn_cell_subtype     postsyn_cell_id postsyn_cell_type  \\\n",
       "0                e           pyramidal  648518346349531254                 e   \n",
       "\n",
       "  postsyn_cell_subtype  n_mitos  \n",
       "0            pyramidal      0.0  "
      ]
     },
     "execution_count": 7,
     "metadata": {},
     "output_type": "execute_result"
    }
   ],
   "source": [
    "all_labels_raw.head(1) # debugging"
   ]
  },
  {
   "cell_type": "code",
   "execution_count": 8,
   "metadata": {},
   "outputs": [],
   "source": [
    "# First pass: ONLY predict on the cell types. You can add the features back in later.\n",
    "all_labels = all_labels_raw[['syn_id','presyn_cell_type','postsyn_cell_type']]\n",
    "prect_int = [1 if q == 'e' else 0 for q in list(all_labels_raw['presyn_cell_type'])]\n",
    "postct_int = [1 if q == 'e' else 0 for q in list(all_labels_raw['postsyn_cell_type'])]\n",
    "all_labels = pd.DataFrame(data={'syn_id':all_labels_raw['syn_id'],'presyn_cell_type':prect_int,'postsyn_cell_type':postct_int})\n",
    "# all_labels = all_labels_raw[['syn_id','presyn_cell_subtype','postsyn_cell_subtype']]\n",
    "# print(np.unique(all_labels1['presyn_cell_subtype'])) # debugging\n",
    "# print(np.unique(all_labels1['postsyn_cell_subtype'])) # debugging"
   ]
  },
  {
   "cell_type": "code",
   "execution_count": 9,
   "metadata": {},
   "outputs": [
    {
     "name": "stdout",
     "output_type": "stream",
     "text": [
      "2\n"
     ]
    }
   ],
   "source": [
    "# Compute the number of outputs\n",
    "n_labels = len(all_labels.loc[all_labels.index[0]].values.tolist()) - 1 # subtract 1 to remove the syn_id key column\n",
    "print(n_labels)"
   ]
  },
  {
   "cell_type": "code",
   "execution_count": 10,
   "metadata": {},
   "outputs": [],
   "source": [
    "def generate_dataset(\n",
    "        imgpath,\n",
    "        file_set,\n",
    "        scale_array=None,\n",
    "        transform=None,\n",
    "        device=torch.device(\"cpu\"),\n",
    "        dtype=torch.float32):\n",
    "    \n",
    "    # Read in image tensors to a subject list\n",
    "    file_extension = '.npy'\n",
    "    synapse_images = []\n",
    "\n",
    "    for f in file_set[1:500]:\n",
    "        pathcurr = imgpath + f\n",
    "        synidcurr = f[:-len(file_extension)]\n",
    "        # Define labels according to one-hot construction\n",
    "        # Is this the best place to define labels in this way?\n",
    "        labelscurr = torch.tensor(\n",
    "            all_labels.loc[all_labels['syn_id'] == int(synidcurr)][['presyn_cell_type','postsyn_cell_type']].values[0, :],\n",
    "            device=device, dtype=torch.float32) # torch.long raised an error\n",
    "        tensorcurr = np.squeeze(np.load(pathcurr))\n",
    "\n",
    "        # Apply (hand-designed, for now) corrections to the tensor to standardize values\n",
    "        # onto the interval [0,1]\n",
    "        # also, clamp everything to 1.\n",
    "        tensorcurr = torch.tensor(tensorcurr / scale_array[:, None, None, None], device=device, dtype=dtype)\n",
    "        tensorcurr = torch.clamp(tensorcurr, min=0., max=1.)\n",
    "        \n",
    "        # Put tensor into a torchio scalar image object\n",
    "        imcurr = tio.ScalarImage(\n",
    "            tensor=tensorcurr,\n",
    "            spacing=(xres_mmpvx,yres_mmpvx,zres_mmpvx))\n",
    "\n",
    "        synimg_subject_curr = tio.Subject(\n",
    "            images=imcurr,\n",
    "            synid=synidcurr,\n",
    "            labels=labelscurr)\n",
    "\n",
    "        # Append to subject list (subject lists only pull images when an operation is performed)\n",
    "        synapse_images.append(synimg_subject_curr)\n",
    "        \n",
    "    # Build dataset\n",
    "    dataset = tio.data.SubjectsDataset(\n",
    "        subjects=synapse_images,\n",
    "        load_getitem=False,\n",
    "        transform=transform)\n",
    "        \n",
    "    return dataset"
   ]
  },
  {
   "cell_type": "code",
   "execution_count": 11,
   "metadata": {},
   "outputs": [],
   "source": [
    "# Define scaling parameters for the channels in this dataset\n",
    "# n_mitos_max = np.max(list(all_labels_raw['n_mitos']))\n",
    "# scales = [255,1,1,1,n_mitos_max]\n",
    "# Scale mitochondria channel so all mitochondria have label 1\n",
    "scale_array = np.asarray([255,1,1,1,1])"
   ]
  },
  {
   "cell_type": "code",
   "execution_count": 12,
   "metadata": {},
   "outputs": [],
   "source": [
    "train_dataset = generate_dataset(imgpath,train_files,scale_array=scale_array)#,transform=transform_std)\n",
    "test_dataset = generate_dataset(imgpath,test_files,scale_array=scale_array)#,transform=transform_std)"
   ]
  },
  {
   "cell_type": "markdown",
   "metadata": {},
   "source": [
    "Set parameters for augmentation transform"
   ]
  },
  {
   "cell_type": "code",
   "execution_count": 13,
   "metadata": {},
   "outputs": [],
   "source": [
    "# Compute the widths of each synapse image in mm, so that the translation bounds for RandomAffine() can be determined\n",
    "dxvx = dyvx = dzvx = 64\n",
    "dxmm = dxvx * xres_mmpvx\n",
    "dymm = dyvx * yres_mmpvx\n",
    "dzmm = dzvx * zres_mmpvx\n",
    "\n",
    "# Set parameter that *should* allow a crop to 32 px on a side to result in completely information-full images\n",
    "# post-transform\n",
    "transl_frac = 0.09\n",
    "rot_min_deg = 0\n",
    "rot_max_deg = 360\n",
    "\n",
    "# Set other affine parameters\n",
    "scale_min = 0.95\n",
    "scale_max = 1.05\n",
    "\n",
    "# Set finalized crop shape based on your calculations above\n",
    "final_shape = 32\n",
    "\n",
    "# To do: check that 32 px on a side is sufficient to capture a cleft and some\n",
    "# of its pre- and postsynaptic partners"
   ]
  },
  {
   "cell_type": "markdown",
   "metadata": {},
   "source": [
    "Construct transforms for augmentations"
   ]
  },
  {
   "cell_type": "code",
   "execution_count": 14,
   "metadata": {},
   "outputs": [],
   "source": [
    "# RandomFlip()\n",
    "# Allow flip about any axis\n",
    "randflip = tio.RandomFlip(axes = (0,1,2),flip_probability = 1.0) # flip across any axis\n",
    "\n",
    "# RandomAffine()\n",
    "# Notes about parameters:\n",
    "# scales: no scaling because absolute size is likely important\n",
    "# degrees of rot.: could in priniciple be by any amount about any axis\n",
    "# scale and rotate about image center\n",
    "# shift in any dir by 16 px?\n",
    "randaff = tio.RandomAffine(degrees = (rot_min_deg,rot_max_deg), \\\n",
    "                           center = 'image', \\\n",
    "                           translation = (transl_frac*dxmm,transl_frac*dymm,transl_frac*dzmm) \\\n",
    "                          )\n",
    "\n",
    "# Intensity-based transforms:\n",
    "# RandomNoise()\n",
    "# Gaussian noise. mu chosen on U(arg1,arg2) or U(-arg,+arg), default 0.\n",
    "# std chosen on U(arg1,arg2) or U(-arg,+arg), default (0,0.25)\n",
    "randnoise = tio.RandomNoise(mean=(0,0.5),std=(0,0.25))\n",
    "\n",
    "# RandomGamma()\n",
    "# Alters contrast by exponentiating elements. Argument is gamma = e^beta\n",
    "# beta is chosen on U(arg1,arg2) or U(-arg,+arg). default is (-0.3,0.3)\n",
    "randgamma = tio.RandomGamma()\n",
    "\n",
    "# Crop down to 32 px on a side\n",
    "crop = tio.CropOrPad(target_shape=final_shape) # chunks are initially padded to 64 px\n",
    "\n",
    "# Compose transforms\n",
    "# aug_transforms = tio.Compose([randflip,tio.OneOf({randaff:1.0},p=0.5),crop]) # code showing how to make prob(aff)=0.5\n",
    "aug_transforms = tio.Compose([randflip,randaff,randnoise,randgamma,crop])"
   ]
  },
  {
   "cell_type": "markdown",
   "metadata": {},
   "source": [
    "STRATEGY #1:\n",
    "\n",
    "Implement LeNet in 3D, 80% train/20% test split, predict only types of pre- and postsynaptic cells, keep track of loss per iteration for train set and loss per 100 iterations for test set (pull samples randomly from test set for that computation) using categorical cross entropy as loss, and keep track of accuracy in prediction per iteration for training set and per 100 iterations for test set)"
   ]
  },
  {
   "cell_type": "markdown",
   "metadata": {},
   "source": [
    "Define net"
   ]
  },
  {
   "cell_type": "code",
   "execution_count": 15,
   "metadata": {},
   "outputs": [],
   "source": [
    "class Net(nn.Module):\n",
    "    \n",
    "    def __init__(\n",
    "            self,\n",
    "            device: torch.device = torch.device(\"cpu\"),\n",
    "            dtype: torch.dtype = torch.float32):\n",
    "        super(Net, self).__init__()        \n",
    "        # 5 input image channels per sample (32 x 32 x 32 vx)\n",
    "        # initial arg1 was 30 instead of 10\n",
    "        self.conv1 = nn.Conv3d(5,10,5) # Starting smaller just to see what will run (2 features per channel ish)\n",
    "        \n",
    "        # Second convolutional step\n",
    "        # initial arg0: 30. initial arg1: 80\n",
    "        self.conv2 = nn.Conv3d(10,20,5)\n",
    "        \n",
    "        self.fc1 = nn.Linear(20*5*5*5,120) # 20 channels at 5x5*5 px post-max pool step (again trying to start smaller)\n",
    "        self.fc2 = nn.Linear(120,84) # not sure why these intermediate steps are necessary\n",
    "        self.fc3 = nn.Linear(84,n_labels) # get it down to a size 14 vector to match the features you've measured?\n",
    "        \n",
    "        self.to(device)\n",
    "        self.type(dtype)\n",
    "        \n",
    "    # You define the forward() function and the backward() function is automatically defined using autograd\n",
    "    def forward(self, x):\n",
    "        # Max pooling over a (2,2,2) window\n",
    "        x = F.max_pool3d(F.relu(self.conv1(x)), 2) # the maxpool is performed on the ReLU of the convolved input\n",
    "        # print(np.shape(x)) # debugging\n",
    "        \n",
    "        # Max pooling over a (2,2,2) window after performing convolution #2 on ^that result\n",
    "        x = F.max_pool3d(F.relu(self.conv2(x)), 2)\n",
    "        # print(np.shape(x)) # debugging\n",
    "        \n",
    "        # We're now flattening the whole set of features across all channels and we want to downsample?\n",
    "        # Or reshape?\n",
    "        x = x.view(-1, self.num_flat_features(x))\n",
    "        # print(np.shape(x)) # debugging\n",
    "        \n",
    "        # Turn maxpooled images into a fully-connected vector and apply relu to remove negative activations\n",
    "        x = F.relu(self.fc1(x))\n",
    "        x = F.relu(self.fc2(x))\n",
    "        # Don't perform ReLU on the final output because we want to see what the actual results are\n",
    "        x = self.fc3(x)\n",
    "        return x\n",
    "    \n",
    "    def num_flat_features(self, x)     :\n",
    "        size = x.size()[1:] # All dimensions except the batch dimension\n",
    "        num_features = 1\n",
    "        for s in size:\n",
    "            num_features *= s\n",
    "        return num_features\n"
   ]
  },
  {
   "cell_type": "markdown",
   "metadata": {},
   "source": [
    "#### START HERE: https://pytorch.org/tutorials/beginner/blitz/neural_networks_tutorial.html"
   ]
  },
  {
   "cell_type": "markdown",
   "metadata": {},
   "source": [
    "Load training data in mini-batches, augment each item in the structure appropriate for contrastive learning, and implement contrastive learning"
   ]
  },
  {
   "cell_type": "code",
   "execution_count": 16,
   "metadata": {},
   "outputs": [],
   "source": [
    "# Define batch loading object for subject dataset using PyTorch DataLoader object\n",
    "# Batch size is typically between 50 and 256?\n",
    "BATCH_SIZE = 2 #50\n",
    "train_batch_loader = torch.utils.data.DataLoader(train_dataset,batch_size=BATCH_SIZE)\n",
    "test_batch_loader = torch.utils.data.DataLoader(test_dataset,batch_size=BATCH_SIZE)"
   ]
  },
  {
   "cell_type": "code",
   "execution_count": 17,
   "metadata": {},
   "outputs": [],
   "source": [
    "# Initialize the net\n",
    "net = Net()\n",
    "# Initialize cross entropy loss criterion\n",
    "# (this one is classification-label-based loss)\n",
    "criterion = nn.BCELoss()\n",
    "# Initialize contrastive loss criterion\n",
    "# (this one is metric-learning-based loss)\n",
    "# TO DO: define or initialize if it already exists\n",
    "#contrast_criterion = []\n",
    "# Set learning rate\n",
    "LR = 0.001 # if this learning rate does not lead to settling with Adam, decrease to 10^-3\n",
    "# Initialize optimizer\n",
    "optimizer = optim.Adam(net.parameters(),lr=LR)\n",
    "# Number of epochs (usually between 100 and 500?)\n",
    "nepochs = 100"
   ]
  },
  {
   "cell_type": "code",
   "execution_count": 18,
   "metadata": {},
   "outputs": [],
   "source": [
    "# Set iteration frequency at which checks will occur\n",
    "N_ITERS_LOG_TRAIN = 50#2000\n",
    "N_ITERS_TEST_FRAC = 10#20\n",
    "N_ITERS_LOG_TEST = N_ITERS_LOG_TRAIN/N_ITERS_TEST_FRAC"
   ]
  },
  {
   "cell_type": "code",
   "execution_count": 19,
   "metadata": {},
   "outputs": [],
   "source": [
    "# Testing\n",
    "# batchdata = next(iter(train_batch_loader))\n",
    "# bi = batchdata['images']['data']\n",
    "# bi = batchdata.imag\n",
    "# bic = torch.from_numpy(np.expand_dims(crop(np.squeeze(bi)),axis=0))\n",
    "# bic = torch.rand((5,5,32,32,32))\n",
    "# out = net(bic)"
   ]
  },
  {
   "cell_type": "code",
   "execution_count": 20,
   "metadata": {},
   "outputs": [],
   "source": [
    "def batch_apply(batch,transform,fshape=None):\n",
    "    # There has to be a built-in function for this, right?\n",
    "    if fshape == None:\n",
    "        fshape = np.shape(batch[-1])\n",
    "    batchfinal = torch.tensor(\n",
    "        np.zeros((np.shape(batch)[0],np.shape(batch)[1],fshape,fshape,fshape)),\n",
    "        device=torch.device(\"cpu\"),\n",
    "        dtype=torch.float32)\n",
    "    for bidx in range(len(batch)):\n",
    "        batchfinal[bidx] = transform(batch[bidx])\n",
    "        \n",
    "    return batchfinal"
   ]
  },
  {
   "cell_type": "code",
   "execution_count": 21,
   "metadata": {},
   "outputs": [],
   "source": [
    "def cosine_sim(t1,t2):\n",
    "    # @t1, @t2: input tensors\n",
    "    # returns cosine similarity by performing inner product of normalized tensors\n",
    "    t1 = torch.squeeze(t1)\n",
    "    t2 = torch.squeeze(t2)\n",
    "    norm = torch.multiply(torch.norm(t1),torch.norm(t2))\n",
    "    cos = torch.divide(torch.dot(t1,t2),norm)\n",
    "    return cos"
   ]
  },
  {
   "cell_type": "code",
   "execution_count": 22,
   "metadata": {},
   "outputs": [],
   "source": [
    "def contrastive_loss(pos,neg,temp=0.07):\n",
    "    # @pos: similarity function of the positive input\n",
    "    # @neg: similarity function of the negative input\n",
    "    # @temp: temperature parameter for contrastive loss (values between 0.05 and 0.1 seem reasonable)\n",
    "    # computes and returns contrastive log loss\n",
    "    alllogits = torch.cat((pos,neg))/temp\n",
    "    expinputs = torch.exp(alllogits)\n",
    "    loss = -torch.log(expinputs[0]/torch.sum(expinputs))\n",
    "    return loss"
   ]
  },
  {
   "cell_type": "code",
   "execution_count": 23,
   "metadata": {},
   "outputs": [],
   "source": [
    "nepochs = 2"
   ]
  },
  {
   "cell_type": "code",
   "execution_count": 24,
   "metadata": {
    "scrolled": false
   },
   "outputs": [
    {
     "name": "stdout",
     "output_type": "stream",
     "text": [
      "epoch = 0\n",
      "0\n"
     ]
    },
    {
     "name": "stderr",
     "output_type": "stream",
     "text": [
      "/usr/people/amw7/pinky100_VENV_python3p6/VENV_1/lib/python3.6/site-packages/torchio/transforms/augmentation/intensity/random_gamma.py:140: RuntimeWarning: Negative values found in input tensor. See the documentation for more details on the implemented workaround: https://torchio.readthedocs.io/transforms/augmentation.html#randomgamma\n",
      "  warnings.warn(message, RuntimeWarning)\n",
      "/usr/people/amw7/pinky100_VENV_python3p6/VENV_1/lib/python3.6/site-packages/torch/autograd/__init__.py:132: UserWarning: CUDA initialization: The NVIDIA driver on your system is too old (found version 9000). Please update your GPU driver by downloading and installing a new version from the URL: http://www.nvidia.com/Download/index.aspx Alternatively, go to: https://pytorch.org to install a PyTorch version that has been compiled with your version of the CUDA driver. (Triggered internally at  /pytorch/c10/cuda/CUDAFunctions.cpp:100.)\n",
      "  allow_unreachable=True)  # allow_unreachable flag\n"
     ]
    },
    {
     "name": "stdout",
     "output_type": "stream",
     "text": [
      "1\n",
      "2\n",
      "3\n",
      "4\n",
      "5\n",
      "6\n",
      "7\n",
      "8\n",
      "9\n",
      "10\n",
      "11\n",
      "12\n",
      "13\n",
      "14\n",
      "15\n",
      "16\n",
      "17\n",
      "18\n",
      "19\n",
      "20\n",
      "21\n",
      "22\n",
      "23\n",
      "24\n",
      "25\n",
      "26\n",
      "27\n",
      "28\n",
      "29\n",
      "30\n",
      "31\n",
      "32\n",
      "33\n",
      "34\n",
      "35\n",
      "36\n",
      "37\n",
      "38\n",
      "39\n",
      "40\n",
      "41\n",
      "42\n",
      "43\n",
      "44\n",
      "45\n",
      "46\n",
      "47\n",
      "48\n",
      "49\n",
      "checking test and train loss at iter 49\n"
     ]
    },
    {
     "data": {
      "image/png": "[encoded data removed]",
      "text/plain": [
       "<Figure size 432x288 with 1 Axes>"
      ]
     },
     "metadata": {
      "needs_background": "light"
     },
     "output_type": "display_data"
    },
    {
     "name": "stdout",
     "output_type": "stream",
     "text": [
      "50\n",
      "51\n",
      "52\n",
      "53\n",
      "54\n",
      "55\n",
      "56\n",
      "57\n",
      "58\n",
      "59\n",
      "60\n",
      "61\n",
      "62\n",
      "63\n",
      "64\n",
      "65\n",
      "66\n",
      "67\n",
      "68\n",
      "69\n",
      "70\n",
      "71\n",
      "72\n",
      "73\n",
      "74\n",
      "75\n",
      "76\n",
      "77\n",
      "78\n",
      "79\n",
      "80\n",
      "81\n",
      "82\n",
      "83\n",
      "84\n",
      "85\n",
      "86\n",
      "87\n",
      "88\n",
      "89\n",
      "90\n",
      "91\n",
      "92\n",
      "93\n",
      "94\n",
      "95\n",
      "96\n",
      "97\n",
      "98\n",
      "99\n",
      "checking test and train loss at iter 99\n"
     ]
    },
    {
     "data": {
      "image/png": "[encoded data removed]",
      "text/plain": [
       "<Figure size 432x288 with 1 Axes>"
      ]
     },
     "metadata": {
      "needs_background": "light"
     },
     "output_type": "display_data"
    },
    {
     "name": "stdout",
     "output_type": "stream",
     "text": [
      "100\n",
      "101\n",
      "102\n",
      "103\n",
      "104\n",
      "105\n",
      "106\n",
      "107\n",
      "108\n",
      "109\n",
      "110\n",
      "111\n",
      "112\n",
      "113\n",
      "114\n",
      "115\n",
      "116\n",
      "117\n",
      "118\n",
      "119\n",
      "120\n",
      "121\n",
      "122\n",
      "123\n",
      "124\n",
      "125\n",
      "126\n",
      "127\n",
      "128\n",
      "129\n",
      "130\n",
      "131\n",
      "132\n",
      "133\n",
      "134\n",
      "135\n",
      "136\n",
      "137\n",
      "138\n",
      "139\n",
      "140\n",
      "141\n",
      "142\n",
      "143\n",
      "144\n",
      "145\n",
      "146\n",
      "147\n",
      "148\n",
      "149\n",
      "checking test and train loss at iter 149\n"
     ]
    },
    {
     "data": {
      "image/png": "[encoded data removed]",
      "text/plain": [
       "<Figure size 432x288 with 1 Axes>"
      ]
     },
     "metadata": {
      "needs_background": "light"
     },
     "output_type": "display_data"
    },
    {
     "name": "stdout",
     "output_type": "stream",
     "text": [
      "150\n",
      "151\n",
      "152\n",
      "153\n",
      "154\n",
      "155\n",
      "156\n",
      "157\n",
      "158\n",
      "159\n",
      "160\n",
      "161\n",
      "162\n",
      "163\n",
      "164\n",
      "165\n",
      "166\n",
      "167\n",
      "168\n",
      "169\n",
      "170\n",
      "171\n",
      "172\n",
      "173\n",
      "174\n",
      "175\n",
      "176\n",
      "177\n",
      "178\n",
      "179\n",
      "180\n",
      "181\n",
      "182\n",
      "183\n",
      "184\n",
      "185\n",
      "186\n",
      "187\n",
      "188\n",
      "189\n",
      "190\n",
      "191\n",
      "192\n",
      "193\n",
      "194\n",
      "195\n",
      "196\n",
      "197\n",
      "198\n",
      "199\n",
      "checking test and train loss at iter 199\n"
     ]
    },
    {
     "data": {
      "image/png": "[encoded data removed]",
      "text/plain": [
       "<Figure size 432x288 with 1 Axes>"
      ]
     },
     "metadata": {
      "needs_background": "light"
     },
     "output_type": "display_data"
    },
    {
     "name": "stdout",
     "output_type": "stream",
     "text": [
      "200\n",
      "201\n",
      "202\n",
      "203\n",
      "204\n",
      "205\n",
      "206\n",
      "207\n",
      "208\n",
      "209\n",
      "210\n",
      "211\n",
      "212\n",
      "213\n",
      "214\n",
      "215\n",
      "216\n",
      "217\n",
      "218\n",
      "219\n",
      "220\n",
      "221\n",
      "222\n",
      "223\n",
      "224\n",
      "225\n",
      "226\n",
      "227\n",
      "228\n",
      "229\n",
      "230\n",
      "231\n",
      "232\n",
      "233\n",
      "234\n",
      "235\n",
      "236\n",
      "237\n",
      "238\n",
      "239\n",
      "240\n",
      "241\n",
      "242\n",
      "243\n",
      "244\n",
      "245\n",
      "246\n",
      "247\n",
      "248\n",
      "249\n",
      "checking test and train loss at iter 249\n"
     ]
    },
    {
     "data": {
      "image/png": "[encoded data removed]",
      "text/plain": [
       "<Figure size 432x288 with 1 Axes>"
      ]
     },
     "metadata": {
      "needs_background": "light"
     },
     "output_type": "display_data"
    },
    {
     "name": "stdout",
     "output_type": "stream",
     "text": [
      "epoch = 1\n",
      "0\n",
      "1\n",
      "2\n",
      "3\n",
      "4\n",
      "5\n",
      "6\n",
      "7\n",
      "8\n",
      "9\n",
      "10\n",
      "11\n",
      "12\n",
      "13\n",
      "14\n",
      "15\n",
      "16\n",
      "17\n",
      "18\n",
      "19\n",
      "20\n",
      "21\n",
      "22\n",
      "23\n",
      "24\n",
      "25\n",
      "26\n",
      "27\n",
      "28\n",
      "29\n",
      "30\n",
      "31\n",
      "32\n",
      "33\n",
      "34\n",
      "35\n",
      "36\n",
      "37\n",
      "38\n",
      "39\n",
      "40\n",
      "41\n",
      "42\n",
      "43\n",
      "44\n",
      "45\n",
      "46\n",
      "47\n",
      "48\n",
      "49\n",
      "checking test and train loss at iter 49\n"
     ]
    },
    {
     "data": {
      "image/png": "[encoded data removed]",
      "text/plain": [
       "<Figure size 432x288 with 1 Axes>"
      ]
     },
     "metadata": {
      "needs_background": "light"
     },
     "output_type": "display_data"
    },
    {
     "name": "stdout",
     "output_type": "stream",
     "text": [
      "50\n",
      "51\n",
      "52\n",
      "53\n",
      "54\n",
      "55\n",
      "56\n",
      "57\n",
      "58\n",
      "59\n",
      "60\n",
      "61\n",
      "62\n",
      "63\n",
      "64\n",
      "65\n",
      "66\n",
      "67\n",
      "68\n",
      "69\n",
      "70\n",
      "71\n",
      "72\n",
      "73\n",
      "74\n",
      "75\n",
      "76\n",
      "77\n",
      "78\n",
      "79\n",
      "80\n",
      "81\n",
      "82\n",
      "83\n",
      "84\n",
      "85\n",
      "86\n",
      "87\n",
      "88\n",
      "89\n",
      "90\n",
      "91\n",
      "92\n",
      "93\n",
      "94\n",
      "95\n",
      "96\n",
      "97\n",
      "98\n",
      "99\n",
      "checking test and train loss at iter 99\n"
     ]
    },
    {
     "data": {
      "image/png": "[encoded data removed]",
      "text/plain": [
       "<Figure size 432x288 with 1 Axes>"
      ]
     },
     "metadata": {
      "needs_background": "light"
     },
     "output_type": "display_data"
    },
    {
     "name": "stdout",
     "output_type": "stream",
     "text": [
      "100\n",
      "101\n",
      "102\n",
      "103\n",
      "104\n",
      "105\n",
      "106\n",
      "107\n",
      "108\n",
      "109\n",
      "110\n",
      "111\n",
      "112\n",
      "113\n",
      "114\n",
      "115\n",
      "116\n",
      "117\n",
      "118\n",
      "119\n",
      "120\n",
      "121\n",
      "122\n",
      "123\n",
      "124\n",
      "125\n",
      "126\n",
      "127\n",
      "128\n",
      "129\n",
      "130\n",
      "131\n",
      "132\n",
      "133\n",
      "134\n",
      "135\n",
      "136\n",
      "137\n",
      "138\n",
      "139\n",
      "140\n",
      "141\n",
      "142\n",
      "143\n",
      "144\n",
      "145\n",
      "146\n",
      "147\n",
      "148\n",
      "149\n",
      "checking test and train loss at iter 149\n"
     ]
    },
    {
     "data": {
      "image/png": "[encoded data removed]",
      "text/plain": [
       "<Figure size 432x288 with 1 Axes>"
      ]
     },
     "metadata": {
      "needs_background": "light"
     },
     "output_type": "display_data"
    },
    {
     "name": "stdout",
     "output_type": "stream",
     "text": [
      "150\n",
      "151\n",
      "152\n",
      "153\n",
      "154\n",
      "155\n",
      "156\n",
      "157\n",
      "158\n",
      "159\n",
      "160\n",
      "161\n",
      "162\n",
      "163\n",
      "164\n",
      "165\n",
      "166\n",
      "167\n",
      "168\n",
      "169\n",
      "170\n",
      "171\n",
      "172\n",
      "173\n",
      "174\n",
      "175\n",
      "176\n",
      "177\n",
      "178\n",
      "179\n",
      "180\n",
      "181\n",
      "182\n",
      "183\n",
      "184\n",
      "185\n",
      "186\n",
      "187\n",
      "188\n",
      "189\n",
      "190\n",
      "191\n",
      "192\n",
      "193\n",
      "194\n",
      "195\n",
      "196\n",
      "197\n",
      "198\n",
      "199\n",
      "checking test and train loss at iter 199\n"
     ]
    },
    {
     "data": {
      "image/png": "[encoded data removed]",
      "text/plain": [
       "<Figure size 432x288 with 1 Axes>"
      ]
     },
     "metadata": {
      "needs_background": "light"
     },
     "output_type": "display_data"
    },
    {
     "name": "stdout",
     "output_type": "stream",
     "text": [
      "200\n",
      "201\n",
      "202\n",
      "203\n",
      "204\n",
      "205\n",
      "206\n",
      "207\n",
      "208\n",
      "209\n",
      "210\n",
      "211\n",
      "212\n",
      "213\n",
      "214\n",
      "215\n",
      "216\n",
      "217\n",
      "218\n",
      "219\n",
      "220\n",
      "221\n",
      "222\n",
      "223\n",
      "224\n",
      "225\n",
      "226\n",
      "227\n",
      "228\n",
      "229\n",
      "230\n",
      "231\n",
      "232\n",
      "233\n",
      "234\n",
      "235\n",
      "236\n",
      "237\n",
      "238\n",
      "239\n",
      "240\n",
      "241\n",
      "242\n",
      "243\n",
      "244\n",
      "245\n",
      "246\n",
      "247\n",
      "248\n",
      "249\n",
      "checking test and train loss at iter 249\n"
     ]
    },
    {
     "data": {
      "image/png": "[encoded data removed]",
      "text/plain": [
       "<Figure size 432x288 with 1 Axes>"
      ]
     },
     "metadata": {
      "needs_background": "light"
     },
     "output_type": "display_data"
    },
    {
     "name": "stdout",
     "output_type": "stream",
     "text": [
      "Finished training\n"
     ]
    }
   ],
   "source": [
    "for epoch in range(nepochs): # loop over the dataset multiple times\n",
    "    print('epoch = {0}'.format(epoch))\n",
    "    \n",
    "    # Set up running loss plotting\n",
    "    plt.figure()\n",
    "    plt.xlabel('log iter')\n",
    "    plt.ylabel('loss')\n",
    "    iters_to_plot = []\n",
    "    rl_train_to_plot = []\n",
    "    rl_test_to_plot = []\n",
    "    running_loss_train = 0\n",
    "    running_loss_test = 0\n",
    "    \n",
    "    for i,data in enumerate(train_batch_loader,start=0):\n",
    "        testiter = iter(test_batch_loader)\n",
    "        batchinputsraw = data['images']['data']\n",
    "        batchlabels = data['labels']\n",
    "           \n",
    "#         # Option 1: use a contrastive approach to augment the data and constrain\n",
    "#         # the loss computation/weight updates\n",
    "#         # Choose anchor and contrasting element at random from the minibatch\n",
    "#         # (for transformation invariance)\n",
    "#         ids = np.random.choice(np.shape(batchinputsraw)[0],2)\n",
    "#         anchor = batchinputsraw[ids[0]]\n",
    "#         negative = batchinputsraw[ids[1]]\n",
    "#         # Get anchor and negative labels\n",
    "#         alabel = batchlabels[ids[0]][None,:]\n",
    "#         nlabel = batchlabels[ids[1]][None,:]\n",
    "#         # Generate contrasting transforms\n",
    "#         anchortrans = aug_transforms(anchor)[None,:]\n",
    "#         postrans = aug_transforms(anchor)[None,:]\n",
    "#         negtrans = aug_transforms(negative)[None,:]\n",
    "#         # Run all through the net\n",
    "#         optimizer.zero_grad()\n",
    "#         atoutput = net(anchortrans)\n",
    "#         ptoutput = net(postrans)\n",
    "#         ntoutput = net(negtrans)\n",
    "#         # Compute loss function components:\n",
    "#         # (1) Compute classification label log loss (cross-entropy log loss)\n",
    "#         lossa = criterion(torch.sigmoid(atoutput),alabel)\n",
    "#         lossp = criterion(torch.sigmoid(ptoutput),alabel)\n",
    "#         lossn = criterion(torch.sigmoid(ntoutput),nlabel)\n",
    "#         # (2) Compute contrastive metric learning log loss \n",
    "#         losscontrast = contrastive_loss(cosine_sim(atoutput,ptoutput)[None],cosine_sim(atoutput,ntoutput)[None])\n",
    "#         # Sum losses\n",
    "#         loss = lossa + lossp + lossn + losscontrast\n",
    "        \n",
    "        # Option 2: Augment the whole minibatch and update that way\n",
    "        # Augment minibatch\n",
    "        batchinputs = batch_apply(batchinputsraw,aug_transforms,fshape=final_shape)\n",
    "        #print(np.shape(batchinputs))\n",
    "        # When augmentation is not used, crop images to 32 px on a side\n",
    "        # batchinputs = batch_apply(batchinputsraw,crop,fshape=final_shape)\n",
    "        # Zero parameter gradient buffers\n",
    "        optimizer.zero_grad()\n",
    "        # Forward + backward + optimize\n",
    "        outputs = net(batchinputs)\n",
    "        loss = criterion(torch.sigmoid(outputs),batchlabels)\n",
    "\n",
    "        # Use loss to perform gradient-based weight updates\n",
    "        loss.backward() # see how much the loss changed with differences in weights\n",
    "        optimizer.step() # update the weights in the network\n",
    "        running_loss_train += loss.item()\n",
    "        \n",
    "        # Compute test set loss at regular intervals\n",
    "        if i % N_ITERS_LOG_TEST == (N_ITERS_LOG_TEST-1):\n",
    "            #print('computing test loss')\n",
    "            tbc = testiter.next()\n",
    "            testinputs = tbc['images']['data']\n",
    "            testinputscropped = batch_apply(testinputs,crop,fshape=final_shape)\n",
    "            testlabels = tbc['labels']\n",
    "            testoutputs = net(testinputscropped)\n",
    "            losstest = criterion(torch.sigmoid(testoutputs),testlabels)\n",
    "            running_loss_test += losstest.item()\n",
    "        \n",
    "        # Plot average train and test losses\n",
    "        if i % N_ITERS_LOG_TRAIN == (N_ITERS_LOG_TRAIN-1): \n",
    "            print('checking test and train loss at iter {0}'.format(i))\n",
    "            rl_train_avg = running_loss_train/N_ITERS_LOG_TRAIN\n",
    "            rl_test_avg = running_loss_test/N_ITERS_LOG_TEST\n",
    "            iters_to_plot.append(i)\n",
    "            rl_train_to_plot.append(rl_train_avg)\n",
    "            rl_test_to_plot.append(rl_test_avg)\n",
    "            #print('TRAIN LOSS LIST LENGTH: {0}'.format(len(rl_train_to_plot)))\n",
    "            #print('TEST LOSS LIST LENGTH: {0}'.format(len(rl_test_to_plot)))\n",
    "            \n",
    "            # Plot average running training and test losses\n",
    "            plt.plot(iters_to_plot,rl_train_to_plot,'-.',color='tab:blue')\n",
    "            plt.plot(iters_to_plot,rl_train_to_plot,'.',color='tab:blue',markersize=10,label='training loss')\n",
    "            plt.plot(iters_to_plot,rl_test_to_plot,'-.',color='tab:orange')\n",
    "            plt.plot(iters_to_plot,rl_test_to_plot,'.',color='tab:orange',markersize=10,label='test loss')\n",
    "            plt.legend(loc='best')\n",
    "            plt.show()\n",
    "            \n",
    "            # Reset running losses for next set of 2000 iterations\n",
    "            running_loss_train = 0.0\n",
    "            running_loss_test = 0.0\n",
    "\n",
    "print('Finished training')"
   ]
  },
  {
   "cell_type": "markdown",
   "metadata": {},
   "source": [
    "***"
   ]
  },
  {
   "cell_type": "code",
   "execution_count": 25,
   "metadata": {},
   "outputs": [],
   "source": [
    "# Refs:\n",
    "# https://torchio.readthedocs.io/transforms/augmentation.html#spatial\n",
    "# https://torchio.readthedocs.io/data/dataset.html\n",
    "# https://torchio.readthedocs.io/quickstart.html\n",
    "\n",
    "\n",
    "# Information about composing transformations:\n",
    "# https://torchio.readthedocs.io/transforms/transforms.html#composability\n",
    "\n",
    "# Information about patch-based pipelines:\n",
    "# https://torchio.readthedocs.io/data/patch_based.html\n",
    "\n",
    "# PyTorch DataLoader:\n",
    "# https://pytorch.org/docs/master/data.html#torch.utils.data.DataLoader\n",
    "\n",
    "# Example with a CNN (LeNet):\n",
    "# https://pytorch.org/tutorials/beginner/blitz/neural_networks_tutorial.html\n",
    "\n",
    "# Info about backprop\n",
    "# https://pytorch.org/tutorials/beginner/blitz/neural_networks_tutorial.html#backprop\n",
    "\n",
    "# Another helpful derivation of backpropagation and neural network training:\n",
    "\n",
    "# Log loss:\n",
    "# https://jbencook.com/cross-entropy-loss-in-pytorch/\n",
    "# https://pytorch.org/docs/stable/generated/torch.nn.BCELoss.html\n",
    "\n",
    "# Optimizers:\n",
    "# https://ruder.io/optimizing-gradient-descent/"
   ]
  }
 ],
 "metadata": {
  "kernelspec": {
   "display_name": "Python 3",
   "language": "python",
   "name": "python3"
  },
  "language_info": {
   "codemirror_mode": {
    "name": "ipython",
    "version": 3
   },
   "file_extension": ".py",
   "mimetype": "text/x-python",
   "name": "python",
   "nbconvert_exporter": "python",
   "pygments_lexer": "ipython3",
   "version": "3.6.8"
  }
 },
 "nbformat": 4,
 "nbformat_minor": 2
}
